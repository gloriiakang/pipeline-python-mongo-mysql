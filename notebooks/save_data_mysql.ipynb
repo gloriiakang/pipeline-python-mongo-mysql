{
 "cells": [
  {
   "cell_type": "markdown",
   "metadata": {
    "id": "48lvfFLHAaMS"
   },
   "source": [
    "## Configurando o MySQL com Python"
   ]
  },
  {
   "cell_type": "markdown",
   "metadata": {
    "id": "E_Rtdd62AaMU"
   },
   "source": [
    "Neste momento, vamos configurar a integração entre o MySQL e Python. Isso nos permitirá executar consultas, inserções e outras operações no banco de dados MySQL usando o Python como nossa linguagem de programação principal."
   ]
  },
  {
   "cell_type": "code",
   "execution_count": 10,
   "metadata": {
    "id": "oSmszBiKAaMU"
   },
   "outputs": [
    {
     "name": "stdout",
     "output_type": "stream",
     "text": [
      "<mysql.connector.connection_cext.CMySQLConnection object at 0x7f1d70c41300>\n"
     ]
    }
   ],
   "source": [
    "import mysql.connector\n",
    "\n",
    "cnx = mysql.connector.connect(\n",
    "    host=\"localhost\",\n",
    "    user=\"admin\",\n",
    "    password=\"admin\"\n",
    ")\n",
    "\n",
    "print(cnx)"
   ]
  },
  {
   "cell_type": "markdown",
   "metadata": {
    "id": "jprge52bAaMV"
   },
   "source": [
    "Criaremos um cursor, que é um objeto utilizado para executar instruções SQL no contexto do Python. Essse cursor nos permitirá enviar consultas e comandos SQL para o banco de dados MySQL por meio da conexão estabelecida e obter os resultados de volta para serem processados em nosso código Python"
   ]
  },
  {
   "cell_type": "code",
   "execution_count": 11,
   "metadata": {
    "id": "_wxVOv0fAaMV"
   },
   "outputs": [],
   "source": [
    "cursor = cnx.cursor(buffered=True)"
   ]
  },
  {
   "cell_type": "markdown",
   "metadata": {
    "id": "yQCWj8OiAaMW"
   },
   "source": [
    "## Criando uma base de dados"
   ]
  },
  {
   "cell_type": "markdown",
   "metadata": {
    "id": "SuVcZJ3zAaMW"
   },
   "source": [
    "O método `execute()` é usado para compilar uma instrução SQL"
   ]
  },
  {
   "cell_type": "code",
   "execution_count": 12,
   "metadata": {
    "id": "wt5l_h8hAaMW"
   },
   "outputs": [],
   "source": [
    "cursor.execute(\"CREATE DATABASE IF NOT EXISTS dbprodutos;\")"
   ]
  },
  {
   "cell_type": "code",
   "execution_count": 13,
   "metadata": {
    "id": "Ofbqx6eQAaMW"
   },
   "outputs": [
    {
     "name": "stdout",
     "output_type": "stream",
     "text": [
      "('dbprodutos',)\n",
      "('information_schema',)\n",
      "('mysql',)\n",
      "('performance_schema',)\n",
      "('sys',)\n"
     ]
    }
   ],
   "source": [
    "cursor.execute(\"SHOW DATABASES;\")\n",
    "\n",
    "\n",
    "for db in cursor:\n",
    "    print(db)"
   ]
  },
  {
   "cell_type": "markdown",
   "metadata": {
    "id": "cNpQyBpzAaMW"
   },
   "source": [
    "## Criando uma tabela"
   ]
  },
  {
   "cell_type": "markdown",
   "metadata": {
    "id": "Z-fB6LrNAaMW"
   },
   "source": [
    "Antes de criar nossa tabela, vamos revisar as colunas necessárias que precisaremos incluir nela. Essa etapa é importante para garantir que nossa tabela seja projetada corretamente, atendendo aos requisitos de armazenamento e organização dos dados."
   ]
  },
  {
   "cell_type": "code",
   "execution_count": 14,
   "metadata": {
    "id": "EDMnNl3UAaMX"
   },
   "outputs": [
    {
     "data": {
      "text/html": [
       "<div>\n",
       "<style scoped>\n",
       "    .dataframe tbody tr th:only-of-type {\n",
       "        vertical-align: middle;\n",
       "    }\n",
       "\n",
       "    .dataframe tbody tr th {\n",
       "        vertical-align: top;\n",
       "    }\n",
       "\n",
       "    .dataframe thead th {\n",
       "        text-align: right;\n",
       "    }\n",
       "</style>\n",
       "<table border=\"1\" class=\"dataframe\">\n",
       "  <thead>\n",
       "    <tr style=\"text-align: right;\">\n",
       "      <th></th>\n",
       "      <th>_id</th>\n",
       "      <th>Produto</th>\n",
       "      <th>Categoria do Produto</th>\n",
       "      <th>Preço</th>\n",
       "      <th>Frete</th>\n",
       "      <th>Data da Compra</th>\n",
       "      <th>Vendedor</th>\n",
       "      <th>Local da compra</th>\n",
       "      <th>Avaliação da compra</th>\n",
       "      <th>Tipo de pagamento</th>\n",
       "      <th>Quantidade de parcelas</th>\n",
       "      <th>Latitude</th>\n",
       "      <th>Longitude</th>\n",
       "    </tr>\n",
       "  </thead>\n",
       "  <tbody>\n",
       "    <tr>\n",
       "      <th>0</th>\n",
       "      <td>684346752ccfd5e865876e90</td>\n",
       "      <td>Modelagem preditiva</td>\n",
       "      <td>livros</td>\n",
       "      <td>92.45</td>\n",
       "      <td>5.609697</td>\n",
       "      <td>2020-01-01</td>\n",
       "      <td>Thiago Silva</td>\n",
       "      <td>BA</td>\n",
       "      <td>1</td>\n",
       "      <td>cartao_credito</td>\n",
       "      <td>3</td>\n",
       "      <td>-13.29</td>\n",
       "      <td>-41.71</td>\n",
       "    </tr>\n",
       "    <tr>\n",
       "      <th>1</th>\n",
       "      <td>684346752ccfd5e865876eb6</td>\n",
       "      <td>Iniciando em programação</td>\n",
       "      <td>livros</td>\n",
       "      <td>61.73</td>\n",
       "      <td>0.000000</td>\n",
       "      <td>2021-02-01</td>\n",
       "      <td>Beatriz Moraes</td>\n",
       "      <td>SP</td>\n",
       "      <td>4</td>\n",
       "      <td>cartao_credito</td>\n",
       "      <td>1</td>\n",
       "      <td>-22.19</td>\n",
       "      <td>-48.79</td>\n",
       "    </tr>\n",
       "    <tr>\n",
       "      <th>2</th>\n",
       "      <td>684346752ccfd5e865876eca</td>\n",
       "      <td>Dashboards com Power BI</td>\n",
       "      <td>livros</td>\n",
       "      <td>40.98</td>\n",
       "      <td>0.000000</td>\n",
       "      <td>2023-02-01</td>\n",
       "      <td>Beatriz Moraes</td>\n",
       "      <td>RJ</td>\n",
       "      <td>5</td>\n",
       "      <td>cartao_credito</td>\n",
       "      <td>1</td>\n",
       "      <td>-22.25</td>\n",
       "      <td>-42.66</td>\n",
       "    </tr>\n",
       "    <tr>\n",
       "      <th>3</th>\n",
       "      <td>684346752ccfd5e865876f1a</td>\n",
       "      <td>Dashboards com Power BI</td>\n",
       "      <td>livros</td>\n",
       "      <td>46.58</td>\n",
       "      <td>0.000000</td>\n",
       "      <td>2020-06-01</td>\n",
       "      <td>Rafael Costa</td>\n",
       "      <td>PR</td>\n",
       "      <td>1</td>\n",
       "      <td>cartao_credito</td>\n",
       "      <td>4</td>\n",
       "      <td>-24.89</td>\n",
       "      <td>-51.55</td>\n",
       "    </tr>\n",
       "    <tr>\n",
       "      <th>4</th>\n",
       "      <td>684346752ccfd5e865876f4c</td>\n",
       "      <td>Modelagem preditiva</td>\n",
       "      <td>livros</td>\n",
       "      <td>105.99</td>\n",
       "      <td>3.228088</td>\n",
       "      <td>2022-07-01</td>\n",
       "      <td>Thiago Silva</td>\n",
       "      <td>SP</td>\n",
       "      <td>1</td>\n",
       "      <td>cartao_credito</td>\n",
       "      <td>4</td>\n",
       "      <td>-22.19</td>\n",
       "      <td>-48.79</td>\n",
       "    </tr>\n",
       "  </tbody>\n",
       "</table>\n",
       "</div>"
      ],
      "text/plain": [
       "                        _id                   Produto Categoria do Produto  \\\n",
       "0  684346752ccfd5e865876e90       Modelagem preditiva               livros   \n",
       "1  684346752ccfd5e865876eb6  Iniciando em programação               livros   \n",
       "2  684346752ccfd5e865876eca   Dashboards com Power BI               livros   \n",
       "3  684346752ccfd5e865876f1a   Dashboards com Power BI               livros   \n",
       "4  684346752ccfd5e865876f4c       Modelagem preditiva               livros   \n",
       "\n",
       "    Preço     Frete Data da Compra        Vendedor Local da compra  \\\n",
       "0   92.45  5.609697     2020-01-01    Thiago Silva              BA   \n",
       "1   61.73  0.000000     2021-02-01  Beatriz Moraes              SP   \n",
       "2   40.98  0.000000     2023-02-01  Beatriz Moraes              RJ   \n",
       "3   46.58  0.000000     2020-06-01    Rafael Costa              PR   \n",
       "4  105.99  3.228088     2022-07-01    Thiago Silva              SP   \n",
       "\n",
       "   Avaliação da compra Tipo de pagamento  Quantidade de parcelas  Latitude  \\\n",
       "0                    1    cartao_credito                       3    -13.29   \n",
       "1                    4    cartao_credito                       1    -22.19   \n",
       "2                    5    cartao_credito                       1    -22.25   \n",
       "3                    1    cartao_credito                       4    -24.89   \n",
       "4                    1    cartao_credito                       4    -22.19   \n",
       "\n",
       "   Longitude  \n",
       "0     -41.71  \n",
       "1     -48.79  \n",
       "2     -42.66  \n",
       "3     -51.55  \n",
       "4     -48.79  "
      ]
     },
     "execution_count": 14,
     "metadata": {},
     "output_type": "execute_result"
    }
   ],
   "source": [
    "import pandas as pd\n",
    "\n",
    "df_livros = pd.read_csv(\"/home/gck/pipeline-python-mongo-mysql/data/tabela_livros.csv\")\n",
    "df_livros.head()"
   ]
  },
  {
   "cell_type": "code",
   "execution_count": 16,
   "metadata": {
    "id": "AOgI2-yAAaMX"
   },
   "outputs": [
    {
     "data": {
      "text/plain": [
       "Index(['_id', 'Produto', 'Categoria do Produto', 'Preço', 'Frete',\n",
       "       'Data da Compra', 'Vendedor', 'Local da compra', 'Avaliação da compra',\n",
       "       'Tipo de pagamento', 'Quantidade de parcelas', 'Latitude', 'Longitude'],\n",
       "      dtype='object')"
      ]
     },
     "execution_count": 16,
     "metadata": {},
     "output_type": "execute_result"
    }
   ],
   "source": [
    "df_livros.columns"
   ]
  },
  {
   "cell_type": "code",
   "execution_count": 17,
   "metadata": {
    "id": "IjXdnduAAaMX"
   },
   "outputs": [
    {
     "data": {
      "text/plain": [
       "(742, 13)"
      ]
     },
     "execution_count": 17,
     "metadata": {},
     "output_type": "execute_result"
    }
   ],
   "source": [
    "df_livros.shape"
   ]
  },
  {
   "cell_type": "code",
   "execution_count": 18,
   "metadata": {
    "id": "mEL2pt5eAaMX"
   },
   "outputs": [],
   "source": [
    "cursor.execute(\"\"\"\n",
    "              CREATE TABLE IF NOT EXISTS dbprodutos.tb_livros(\n",
    "               id VARCHAR(100),\n",
    "               Produto VARCHAR(100),\n",
    "               Categoria_Produto VARCHAR(100),\n",
    "               Preco FLOAT(10,2),\n",
    "               Frete FLOAT(10,2),\n",
    "               Data_Compra DATE,\n",
    "               Vendedor VARCHAR(100),\n",
    "               Local_Compra VARCHAR(100),\n",
    "               Avaliacao_Compra INT,\n",
    "               Tipo_Pagamento VARCHAR(100),\n",
    "               Qntd_Parcelas INT,\n",
    "               Latitude FLOAT(10,2),\n",
    "               Longitude FLOAT(10,2),\n",
    "               \n",
    "               PRIMARY KEY (id)\n",
    "    ); \n",
    "\"\"\")"
   ]
  },
  {
   "cell_type": "markdown",
   "metadata": {
    "id": "h0QI3ib6AaMX"
   },
   "source": [
    "**Selecionando a base de dados para verificar a tabela criada**"
   ]
  },
  {
   "cell_type": "code",
   "execution_count": 19,
   "metadata": {
    "id": "4kQPx8HKAaMX"
   },
   "outputs": [
    {
     "name": "stdout",
     "output_type": "stream",
     "text": [
      "('tb_livros',)\n"
     ]
    }
   ],
   "source": [
    "cursor.execute(\"USE dbprodutos;\")\n",
    "cursor.execute(\"SHOW TABLES;\")\n",
    "\n",
    "\n",
    "for db in cursor:\n",
    "    print(db)"
   ]
  },
  {
   "cell_type": "markdown",
   "metadata": {
    "id": "-vttBXAFAaMX"
   },
   "source": [
    "## Inserindo os dados do csv na tabela"
   ]
  },
  {
   "cell_type": "markdown",
   "metadata": {
    "id": "T1_WbYiCAaMY"
   },
   "source": [
    "Para inserir os dados na tabela do MySQL, é necessário percorrer cada linha do DataFrame e transformá-las em tuplas. Essa abordagem permite que mapeemos os dados do DataFrame para as colunas correspondentes da tabela do MySQL de forma eficiente e precisa."
   ]
  },
  {
   "cell_type": "code",
   "execution_count": null,
   "metadata": {
    "id": "vpub4UUaAaMY"
   },
   "outputs": [],
   "source": []
  },
  {
   "cell_type": "code",
   "execution_count": null,
   "metadata": {
    "id": "pXiEzr3xAaMY"
   },
   "outputs": [],
   "source": []
  },
  {
   "cell_type": "code",
   "execution_count": null,
   "metadata": {
    "id": "bmiJewjZAaMY"
   },
   "outputs": [],
   "source": []
  },
  {
   "cell_type": "code",
   "execution_count": null,
   "metadata": {
    "id": "mtCAC3LRAaMY"
   },
   "outputs": [],
   "source": []
  },
  {
   "cell_type": "markdown",
   "metadata": {
    "id": "0uCRoygcAaMY"
   },
   "source": [
    "## Visualizando os dados inseridos"
   ]
  },
  {
   "cell_type": "code",
   "execution_count": null,
   "metadata": {
    "id": "lQYy48pQAaMY"
   },
   "outputs": [],
   "source": []
  },
  {
   "cell_type": "code",
   "execution_count": null,
   "metadata": {
    "id": "P3J6K1ZyAaMZ"
   },
   "outputs": [],
   "source": []
  },
  {
   "cell_type": "code",
   "execution_count": null,
   "metadata": {
    "id": "pl0Abrg1AaMZ"
   },
   "outputs": [],
   "source": []
  }
 ],
 "metadata": {
  "colab": {
   "provenance": []
  },
  "kernelspec": {
   "display_name": "venv",
   "language": "python",
   "name": "python3"
  },
  "language_info": {
   "codemirror_mode": {
    "name": "ipython",
    "version": 3
   },
   "file_extension": ".py",
   "mimetype": "text/x-python",
   "name": "python",
   "nbconvert_exporter": "python",
   "pygments_lexer": "ipython3",
   "version": "3.10.12"
  },
  "orig_nbformat": 4
 },
 "nbformat": 4,
 "nbformat_minor": 0
}
